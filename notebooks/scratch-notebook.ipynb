{
 "cells": [
  {
   "cell_type": "code",
   "execution_count": 1,
   "metadata": {},
   "outputs": [],
   "source": [
    "# this notebook is for quick coding and verification\n",
    "\n",
    "# initial import\n",
    "import numpy as np\n",
    "import pandas as pd"
   ]
  },
  {
   "cell_type": "markdown",
   "metadata": {},
   "source": [
    "# Bubble Sort"
   ]
  },
  {
   "cell_type": "code",
   "execution_count": 26,
   "metadata": {},
   "outputs": [],
   "source": [
    "a = [1,5,7,2,0]"
   ]
  },
  {
   "cell_type": "code",
   "execution_count": 29,
   "metadata": {},
   "outputs": [],
   "source": [
    "def BubbleSort(a):\n",
    "    \n",
    "    # sorting smallest to largest order\n",
    "    sort = False\n",
    "\n",
    "    while not sort:\n",
    "        # assume that the array is sorted\n",
    "        sort = True\n",
    "\n",
    "        for i in range(1,len(a)):\n",
    "            curr = a[i]\n",
    "            prev = a[i-1]\n",
    "\n",
    "            if prev > curr:\n",
    "                a[i], a[i-1] = a[i-1], a[i]\n",
    "                # since we had to sort, set sort variable to false\n",
    "                sort = False\n",
    "    return a"
   ]
  },
  {
   "cell_type": "code",
   "execution_count": 30,
   "metadata": {},
   "outputs": [
    {
     "data": {
      "text/plain": [
       "[0, 1, 2, 5, 7]"
      ]
     },
     "execution_count": 30,
     "metadata": {},
     "output_type": "execute_result"
    }
   ],
   "source": [
    "BubbleSort(a)"
   ]
  },
  {
   "cell_type": "markdown",
   "metadata": {},
   "source": [
    "# insertion sort"
   ]
  },
  {
   "cell_type": "code",
   "execution_count": 86,
   "metadata": {},
   "outputs": [],
   "source": [
    "a = [1,4,9,2,0,5]"
   ]
  },
  {
   "cell_type": "code",
   "execution_count": 87,
   "metadata": {},
   "outputs": [
    {
     "name": "stdout",
     "output_type": "stream",
     "text": [
      "6\n"
     ]
    }
   ],
   "source": [
    "print(len(a))"
   ]
  },
  {
   "cell_type": "code",
   "execution_count": 90,
   "metadata": {},
   "outputs": [],
   "source": [
    "for i in range(1, len(a)):\n",
    "    curr = a[i]\n",
    "    j = i-1\n",
    "    while j >= 0 and a[j] > curr:\n",
    "        a[j+1] = a[j]\n",
    "        j -= 1\n",
    "    a[j+1] = curr\n"
   ]
  },
  {
   "cell_type": "code",
   "execution_count": 92,
   "metadata": {},
   "outputs": [
    {
     "data": {
      "text/plain": [
       "[0, 1, 2, 4, 5, 9]"
      ]
     },
     "execution_count": 92,
     "metadata": {},
     "output_type": "execute_result"
    }
   ],
   "source": [
    "a"
   ]
  },
  {
   "cell_type": "markdown",
   "metadata": {},
   "source": [
    "# Merge Sort"
   ]
  },
  {
   "cell_type": "code",
   "execution_count": 155,
   "metadata": {},
   "outputs": [],
   "source": [
    "a = [1,4,9,2,0,5]"
   ]
  },
  {
   "cell_type": "code",
   "execution_count": 156,
   "metadata": {},
   "outputs": [],
   "source": [
    "def MergeSort(a):\n",
    "    if len(a) > 1:\n",
    "        m = len(a) // 2\n",
    "        L = a[:m]\n",
    "        R = a[m:]\n",
    "        \n",
    "        MergeSort(L)\n",
    "        MergeSort(R)\n",
    "        print(\"L = \", L)\n",
    "        print(\"R = \", R)\n",
    "        print(a)\n",
    "        \n",
    "        #initialize index:\n",
    "        i = j = k = 0\n",
    "        while i < len(L) and j < len(R):\n",
    "            if L[i] < R[j]:\n",
    "                a[k] = L[i]\n",
    "                i += 1\n",
    "            else:\n",
    "                a[k] = R[j]\n",
    "                j += 1\n",
    "            k+=1\n",
    "        print(\"post merge\")\n",
    "        print(\"L = \", L)\n",
    "        print(\"R = \", R)\n",
    "        print(a)\n",
    "        print(\"\\n\\n\")\n",
    "        print(i)\n",
    "        print(j)\n",
    "        print(k)\n",
    "        print(\"\\n\\n\")\n",
    "        \n",
    "        # if there are remaining elements due to the other list index reaching the length\n",
    "        if j == len(R):\n",
    "            a[k] = L[i]\n",
    "        elif i == len(L):\n",
    "            a[k] = R[j]\n",
    "    return a"
   ]
  },
  {
   "cell_type": "code",
   "execution_count": 157,
   "metadata": {},
   "outputs": [
    {
     "name": "stdout",
     "output_type": "stream",
     "text": [
      "L =  [4]\n",
      "R =  [9]\n",
      "[4, 9]\n",
      "post merge\n",
      "L =  [4]\n",
      "R =  [9]\n",
      "[4, 9]\n",
      "\n",
      "\n",
      "\n",
      "1\n",
      "0\n",
      "1\n",
      "\n",
      "\n",
      "\n",
      "L =  [1]\n",
      "R =  [4, 9]\n",
      "[1, 4, 9]\n",
      "post merge\n",
      "L =  [1]\n",
      "R =  [4, 9]\n",
      "[1, 4, 9]\n",
      "\n",
      "\n",
      "\n",
      "1\n",
      "0\n",
      "1\n",
      "\n",
      "\n",
      "\n",
      "L =  [0]\n",
      "R =  [5]\n",
      "[0, 5]\n",
      "post merge\n",
      "L =  [0]\n",
      "R =  [5]\n",
      "[0, 5]\n",
      "\n",
      "\n",
      "\n",
      "1\n",
      "0\n",
      "1\n",
      "\n",
      "\n",
      "\n",
      "L =  [2]\n",
      "R =  [0, 5]\n",
      "[2, 0, 5]\n",
      "post merge\n",
      "L =  [2]\n",
      "R =  [0, 5]\n",
      "[0, 2, 5]\n",
      "\n",
      "\n",
      "\n",
      "1\n",
      "1\n",
      "2\n",
      "\n",
      "\n",
      "\n",
      "L =  [1, 4, 9]\n",
      "R =  [0, 2, 5]\n",
      "[1, 4, 9, 2, 0, 5]\n",
      "post merge\n",
      "L =  [1, 4, 9]\n",
      "R =  [0, 2, 5]\n",
      "[0, 1, 2, 4, 5, 5]\n",
      "\n",
      "\n",
      "\n",
      "2\n",
      "3\n",
      "5\n",
      "\n",
      "\n",
      "\n"
     ]
    },
    {
     "data": {
      "text/plain": [
       "[0, 1, 2, 4, 5, 9]"
      ]
     },
     "execution_count": 157,
     "metadata": {},
     "output_type": "execute_result"
    }
   ],
   "source": [
    "MergeSort(a)"
   ]
  },
  {
   "cell_type": "code",
   "execution_count": 158,
   "metadata": {},
   "outputs": [
    {
     "data": {
      "text/plain": [
       "[0, 1, 2, 4, 5, 9]"
      ]
     },
     "execution_count": 158,
     "metadata": {},
     "output_type": "execute_result"
    }
   ],
   "source": [
    "a"
   ]
  },
  {
   "cell_type": "code",
   "execution_count": 159,
   "metadata": {},
   "outputs": [],
   "source": [
    "a = [1,5,7,2,0]"
   ]
  },
  {
   "cell_type": "code",
   "execution_count": 160,
   "metadata": {},
   "outputs": [
    {
     "name": "stdout",
     "output_type": "stream",
     "text": [
      "L =  [1]\n",
      "R =  [5]\n",
      "[1, 5]\n",
      "post merge\n",
      "L =  [1]\n",
      "R =  [5]\n",
      "[1, 5]\n",
      "\n",
      "\n",
      "\n",
      "1\n",
      "0\n",
      "1\n",
      "\n",
      "\n",
      "\n",
      "L =  [2]\n",
      "R =  [0]\n",
      "[2, 0]\n",
      "post merge\n",
      "L =  [2]\n",
      "R =  [0]\n",
      "[0, 0]\n",
      "\n",
      "\n",
      "\n",
      "0\n",
      "1\n",
      "1\n",
      "\n",
      "\n",
      "\n",
      "L =  [7]\n",
      "R =  [0, 2]\n",
      "[7, 2, 0]\n",
      "post merge\n",
      "L =  [7]\n",
      "R =  [0, 2]\n",
      "[0, 2, 0]\n",
      "\n",
      "\n",
      "\n",
      "0\n",
      "2\n",
      "2\n",
      "\n",
      "\n",
      "\n",
      "L =  [1, 5]\n",
      "R =  [0, 2, 7]\n",
      "[1, 5, 7, 2, 0]\n",
      "post merge\n",
      "L =  [1, 5]\n",
      "R =  [0, 2, 7]\n",
      "[0, 1, 2, 5, 0]\n",
      "\n",
      "\n",
      "\n",
      "2\n",
      "2\n",
      "4\n",
      "\n",
      "\n",
      "\n"
     ]
    },
    {
     "data": {
      "text/plain": [
       "[0, 1, 2, 5, 7]"
      ]
     },
     "execution_count": 160,
     "metadata": {},
     "output_type": "execute_result"
    }
   ],
   "source": [
    "MergeSort(a)"
   ]
  },
  {
   "cell_type": "code",
   "execution_count": null,
   "metadata": {},
   "outputs": [],
   "source": []
  }
 ],
 "metadata": {
  "kernelspec": {
   "display_name": "Python 3",
   "language": "python",
   "name": "python3"
  },
  "language_info": {
   "codemirror_mode": {
    "name": "ipython",
    "version": 3
   },
   "file_extension": ".py",
   "mimetype": "text/x-python",
   "name": "python",
   "nbconvert_exporter": "python",
   "pygments_lexer": "ipython3",
   "version": "3.7.6"
  }
 },
 "nbformat": 4,
 "nbformat_minor": 4
}
