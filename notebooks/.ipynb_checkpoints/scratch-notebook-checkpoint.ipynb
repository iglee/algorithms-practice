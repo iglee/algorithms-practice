{
 "cells": [
  {
   "cell_type": "code",
   "execution_count": 1,
   "metadata": {},
   "outputs": [],
   "source": [
    "# this notebook is for quick coding and verification\n",
    "\n",
    "# initial import\n",
    "import numpy as np\n",
    "import pandas as pd"
   ]
  },
  {
   "cell_type": "markdown",
   "metadata": {},
   "source": [
    "# Bubble Sort"
   ]
  },
  {
   "cell_type": "code",
   "execution_count": 26,
   "metadata": {},
   "outputs": [],
   "source": [
    "a = [1,5,7,2,0]"
   ]
  },
  {
   "cell_type": "code",
   "execution_count": 29,
   "metadata": {},
   "outputs": [],
   "source": [
    "def BubbleSort(a):\n",
    "    \n",
    "    # sorting smallest to largest order\n",
    "    sort = False\n",
    "\n",
    "    while not sort:\n",
    "        # assume that the array is sorted\n",
    "        sort = True\n",
    "\n",
    "        for i in range(1,len(a)):\n",
    "            curr = a[i]\n",
    "            prev = a[i-1]\n",
    "\n",
    "            if prev > curr:\n",
    "                a[i], a[i-1] = a[i-1], a[i]\n",
    "                # since we had to sort, set sort variable to false\n",
    "                sort = False\n",
    "    return a"
   ]
  },
  {
   "cell_type": "code",
   "execution_count": 30,
   "metadata": {},
   "outputs": [
    {
     "data": {
      "text/plain": [
       "[0, 1, 2, 5, 7]"
      ]
     },
     "execution_count": 30,
     "metadata": {},
     "output_type": "execute_result"
    }
   ],
   "source": [
    "BubbleSort(a)"
   ]
  },
  {
   "cell_type": "markdown",
   "metadata": {},
   "source": [
    "# insertion sort"
   ]
  },
  {
   "cell_type": "code",
   "execution_count": 86,
   "metadata": {},
   "outputs": [],
   "source": [
    "a = [1,4,9,2,0,5]"
   ]
  },
  {
   "cell_type": "code",
   "execution_count": 87,
   "metadata": {},
   "outputs": [
    {
     "name": "stdout",
     "output_type": "stream",
     "text": [
      "6\n"
     ]
    }
   ],
   "source": [
    "print(len(a))"
   ]
  },
  {
   "cell_type": "code",
   "execution_count": 90,
   "metadata": {},
   "outputs": [],
   "source": [
    "for i in range(1, len(a)):\n",
    "    curr = a[i]\n",
    "    j = i-1\n",
    "    while j >= 0 and a[j] > curr:\n",
    "        a[j+1] = a[j]\n",
    "        j -= 1\n",
    "    a[j+1] = curr\n"
   ]
  },
  {
   "cell_type": "code",
   "execution_count": 92,
   "metadata": {},
   "outputs": [
    {
     "data": {
      "text/plain": [
       "[0, 1, 2, 4, 5, 9]"
      ]
     },
     "execution_count": 92,
     "metadata": {},
     "output_type": "execute_result"
    }
   ],
   "source": [
    "a"
   ]
  },
  {
   "cell_type": "markdown",
   "metadata": {},
   "source": [
    "# Merge Sort"
   ]
  },
  {
   "cell_type": "code",
   "execution_count": 93,
   "metadata": {},
   "outputs": [],
   "source": [
    "a = [1,4,9,2,0,5]"
   ]
  },
  {
   "cell_type": "code",
   "execution_count": 107,
   "metadata": {},
   "outputs": [],
   "source": [
    "def MergeSort(a):\n",
    "    if len(a) > 1:\n",
    "        m = len(a) // 2\n",
    "        L = a[:m]\n",
    "        R = a[m:]\n",
    "        \n",
    "        MergeSort(L)\n",
    "        MergeSort(R)\n",
    "        print(\"L = \", L)\n",
    "        print(\"R = \", R)\n",
    "        print(a)\n",
    "        \n",
    "        #initialize index:\n",
    "        i = j = k = 0\n",
    "        while i < len(L) and j < len(R):\n",
    "            if L[i] < R[j]:\n",
    "                a[k] = L[i]\n",
    "                i += 1\n",
    "            elif R[j] < L[i]:\n",
    "                a[k] = R[j]\n",
    "                j += 1\n",
    "            k+=1\n",
    "        #print(a)\n"
   ]
  },
  {
   "cell_type": "code",
   "execution_count": 108,
   "metadata": {},
   "outputs": [
    {
     "name": "stdout",
     "output_type": "stream",
     "text": [
      "L =  [4]\n",
      "R =  [9]\n",
      "[4, 9]\n",
      "L =  [1]\n",
      "R =  [4, 9]\n",
      "[1, 4, 9]\n",
      "L =  [0]\n",
      "R =  [5]\n",
      "[0, 5]\n",
      "L =  [2]\n",
      "R =  [0, 5]\n",
      "[2, 0, 5]\n",
      "L =  [1, 4, 9]\n",
      "R =  [2, 0, 5]\n",
      "[1, 4, 9, 2, 0, 5]\n"
     ]
    }
   ],
   "source": [
    "MergeSort(a)"
   ]
  },
  {
   "cell_type": "code",
   "execution_count": null,
   "metadata": {},
   "outputs": [],
   "source": []
  }
 ],
 "metadata": {
  "kernelspec": {
   "display_name": "Python 3",
   "language": "python",
   "name": "python3"
  },
  "language_info": {
   "codemirror_mode": {
    "name": "ipython",
    "version": 3
   },
   "file_extension": ".py",
   "mimetype": "text/x-python",
   "name": "python",
   "nbconvert_exporter": "python",
   "pygments_lexer": "ipython3",
   "version": "3.7.6"
  }
 },
 "nbformat": 4,
 "nbformat_minor": 4
}
